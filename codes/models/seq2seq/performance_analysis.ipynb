{
 "cells": [
  {
   "cell_type": "code",
   "execution_count": 137,
   "metadata": {},
   "outputs": [],
   "source": [
    "import os\n",
    "import json\n",
    "import matplotlib.pyplot as plt\n",
    "import numpy as np\n",
    "def get_quad(pos_tuple):\n",
    "    return (pos_tuple[0]>0, pos_tuple[1]>0)\n",
    "\n",
    "output_dir = \"../../../prod_seed_88_time_1_attr_-2_size_25_aux_loss_True/\"\n",
    "json_path = os.path.join(output_dir, \"situational_1_predict.json\")"
   ]
  },
  {
   "cell_type": "code",
   "execution_count": 138,
   "metadata": {},
   "outputs": [],
   "source": [
    "data_json = json.load(open(json_path, \"r\"))"
   ]
  },
  {
   "cell_type": "markdown",
   "metadata": {},
   "source": [
    "quadrant analysis"
   ]
  },
  {
   "cell_type": "code",
   "execution_count": 139,
   "metadata": {},
   "outputs": [],
   "source": [
    "pred_x = []\n",
    "true_x = []\n",
    "pred_y = []\n",
    "true_y = []\n",
    "for example in data_json:\n",
    "    pred_pos = example['pred_pos']\n",
    "    true_pos = example['true_pos']\n",
    "    pred_quad = get_quad(pred_pos)\n",
    "    true_quad = get_quad(true_pos)\n",
    "    pred_x += [pred_pos[0]]\n",
    "    pred_y += [pred_pos[1]]\n",
    "    true_x += [true_pos[0]]\n",
    "    true_y += [true_pos[1]]"
   ]
  },
  {
   "cell_type": "code",
   "execution_count": 140,
   "metadata": {},
   "outputs": [
    {
     "data": {
      "image/png": "[encoded data removed]",
      "text/plain": [
       "<Figure size 432x432 with 1 Axes>"
      ]
     },
     "metadata": {},
     "output_type": "display_data"
    }
   ],
   "source": [
    "plt.rcParams[\"font.family\"] = \"DejaVu Serif\"\n",
    "font = {'family' : 'DejaVu Serif',\n",
    "        'size'   : 20}\n",
    "plt.rc('font', **font)\n",
    "with plt.rc_context({'axes.edgecolor':'black', 'xtick.color':'black', 'ytick.color':'black', 'figure.facecolor':'white'}):\n",
    "    fig, ax = plt.subplots(1,1, figsize=(6, 6))\n",
    "    ax.scatter(pred_x, pred_y, marker='s', s=30, c='r', edgecolors='red', lw=1)\n",
    "    ax.scatter(true_x, true_y, marker='s', s=30, c='none', edgecolors='red', lw=1)\n",
    "    ax.axhline(0, color='grey')\n",
    "    ax.axvline(0, color='grey')\n",
    "    ax.set_xlim(-6, 6)\n",
    "    ax.set_ylim(-6, 6)\n",
    "    \n",
    "    x = np.array([0, 1, 2, 3, 4, 5, 6])\n",
    "    y1 = np.array([-6]*7)\n",
    "    y2 = np.array([0]*7)\n",
    "    ax.fill_between(x, y1, y2, where=(y1 < y2), color='C1', alpha=0.3)\n",
    "    \n",
    "    plt.show()"
   ]
  },
  {
   "cell_type": "markdown",
   "metadata": {},
   "source": [
    "correlation analysis"
   ]
  },
  {
   "cell_type": "code",
   "execution_count": 141,
   "metadata": {},
   "outputs": [
    {
     "name": "stdout",
     "output_type": "stream",
     "text": [
      "****** Summary ******\n",
      "\n",
      "pos_match_count/total_example=1129/8282=0.136319729533929\n",
      "\n",
      "exact_match/pos_match_count=692/1129=0.6129317980513729\n",
      "\n",
      "exact_match/pos_unmatch_count=102/7153=0.014259751153362225\n",
      "\n",
      "quadrant_match/total_example=3364/8282=0.40618208162279645\n",
      "\n",
      "****** Summary ******\n"
     ]
    }
   ],
   "source": [
    "pos_match_count = 0\n",
    "pos_unmatch_count = 0\n",
    "pos_exact_match_count = 0\n",
    "pos_exact_unmatch_count = 0\n",
    "quadrant_match_count = 0\n",
    "for example in data_json:\n",
    "    pred_pos = example['pred_pos']\n",
    "    true_pos = example['true_pos']\n",
    "    pred_quad = get_quad(pred_pos)\n",
    "    true_quad = get_quad(true_pos)\n",
    "    if pred_pos == true_pos:\n",
    "        pos_match_count += 1\n",
    "        if example['exact_match']:\n",
    "            pos_exact_match_count += 1\n",
    "    else:\n",
    "        pos_unmatch_count += 1\n",
    "        if example['exact_match']:\n",
    "            pos_exact_unmatch_count += 1\n",
    "            \n",
    "    if pred_quad == true_quad:\n",
    "        quadrant_match_count += 1\n",
    "\n",
    "print(\"****** Summary ******\")\n",
    "print()\n",
    "print(f\"pos_match_count/total_example={pos_match_count}/{len(data_json)}={pos_match_count/len(data_json)}\")\n",
    "print()\n",
    "print(f\"exact_match/pos_match_count={pos_exact_match_count}/{pos_match_count}={pos_exact_match_count/pos_match_count}\")\n",
    "print()\n",
    "print(f\"exact_match/pos_unmatch_count={pos_exact_unmatch_count}/{pos_unmatch_count}={pos_exact_unmatch_count/pos_unmatch_count}\")\n",
    "print()\n",
    "print(f\"quadrant_match/total_example={quadrant_match_count}/{len(data_json)}={quadrant_match_count/len(data_json)}\")\n",
    "print()\n",
    "print(\"****** Summary ******\")"
   ]
  },
  {
   "cell_type": "code",
   "execution_count": null,
   "metadata": {},
   "outputs": [],
   "source": []
  },
  {
   "cell_type": "code",
   "execution_count": null,
   "metadata": {},
   "outputs": [],
   "source": []
  }
 ],
 "metadata": {
  "kernelspec": {
   "display_name": "Python 3",
   "language": "python",
   "name": "python3"
  },
  "language_info": {
   "codemirror_mode": {
    "name": "ipython",
    "version": 3
   },
   "file_extension": ".py",
   "mimetype": "text/x-python",
   "name": "python",
   "nbconvert_exporter": "python",
   "pygments_lexer": "ipython3",
   "version": "3.7.6"
  }
 },
 "nbformat": 4,
 "nbformat_minor": 4
}
