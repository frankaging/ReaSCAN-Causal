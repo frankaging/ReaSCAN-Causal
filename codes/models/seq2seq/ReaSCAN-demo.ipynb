{
 "cells": [
  {
   "cell_type": "markdown",
   "metadata": {},
   "source": [
    "#### Dataset explorer\n",
    "\n",
    "This project uses different ReaSCAN splits as in [the original paper](https://openreview.net/pdf?id=Rtquf4Jk0jN). We use ReaSCAN's engine regenerate a set of compositional generalization splits, and evaluate SOTA models on them by comparing with our models.\n",
    "\n",
    "This file helps you explore some basic statistics of the ReaSCAN splits we generated. You can use them to benchmark your models as well."
   ]
  },
  {
   "cell_type": "code",
   "execution_count": 6,
   "metadata": {},
   "outputs": [],
   "source": [
    "import os\n",
    "import json"
   ]
  },
  {
   "cell_type": "code",
   "execution_count": 7,
   "metadata": {},
   "outputs": [],
   "source": [
    "dataset_path = \"../../../data-files/\"\n",
    "datasets = [\n",
    "    \"ReaSCAN-novel-direction\",\n",
    "    \"ReaSCAN-novel-attribute\",\n",
    "    \"ReaSCAN-novel-action-length\"\n",
    "]"
   ]
  },
  {
   "cell_type": "code",
   "execution_count": 9,
   "metadata": {},
   "outputs": [
    {
     "name": "stdout",
     "output_type": "stream",
     "text": [
      "procecssing dataset=ReaSCAN-novel-direction\n",
      "procecssing dataset=ReaSCAN-novel-attribute\n",
      "procecssing dataset=ReaSCAN-novel-action-length\n"
     ]
    }
   ],
   "source": [
    "basic_stats = {}\n",
    "for ds in datasets:\n",
    "    path_to_data = os.path.join(dataset_path, ds, \"data-compositional-splits.txt\")\n",
    "    print(f\"procecssing dataset={ds}\")\n",
    "    basic_stats[ds] = {}\n",
    "    ReaSCAN_data_json = json.load(open(path_to_data, \"r\"))\n",
    "    for k, v in ReaSCAN_data_json[\"examples\"].items():\n",
    "        basic_stats[ds][k] = len(v)"
   ]
  },
  {
   "cell_type": "code",
   "execution_count": 10,
   "metadata": {},
   "outputs": [
    {
     "data": {
      "text/plain": [
       "{'ReaSCAN-novel-direction': {'train': 85000,\n",
       "  'test': 5543,\n",
       "  'dev': 5543,\n",
       "  'new_direction': 8000},\n",
       " 'ReaSCAN-novel-attribute': {'train': 85000,\n",
       "  'test': 5550,\n",
       "  'dev': 5550,\n",
       "  'new_color': 8000,\n",
       "  'new_size': 8000},\n",
       " 'ReaSCAN-novel-action-length': {'train': 85000,\n",
       "  'test': 6694,\n",
       "  'dev': 6694,\n",
       "  'new_action_length': 1110}}"
      ]
     },
     "execution_count": 10,
     "metadata": {},
     "output_type": "execute_result"
    }
   ],
   "source": [
    "basic_stats"
   ]
  },
  {
   "cell_type": "code",
   "execution_count": null,
   "metadata": {},
   "outputs": [],
   "source": []
  }
 ],
 "metadata": {
  "kernelspec": {
   "display_name": "Python 3",
   "language": "python",
   "name": "python3"
  },
  "language_info": {
   "codemirror_mode": {
    "name": "ipython",
    "version": 3
   },
   "file_extension": ".py",
   "mimetype": "text/x-python",
   "name": "python",
   "nbconvert_exporter": "python",
   "pygments_lexer": "ipython3",
   "version": "3.7.6"
  }
 },
 "nbformat": 4,
 "nbformat_minor": 4
}
