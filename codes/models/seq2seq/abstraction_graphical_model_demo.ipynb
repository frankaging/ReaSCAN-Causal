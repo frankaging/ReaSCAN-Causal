{
 "cells": [
  {
   "cell_type": "code",
   "execution_count": 208,
   "metadata": {},
   "outputs": [],
   "source": [
    "import os\n",
    "import sys\n",
    "sys.path.append(os.path.join(os.path.dirname(\"__file__\"), '..'))\n",
    "\n",
    "from antra.antra import *\n",
    "import json\n",
    "import torch"
   ]
  },
  {
   "cell_type": "code",
   "execution_count": 209,
   "metadata": {},
   "outputs": [],
   "source": [
    "def index2corrdinates(index:int, \n",
    "                      grid_size=6):\n",
    "    row = index//grid_size\n",
    "    col = index%grid_size\n",
    "    return (row, col)\n",
    "\n",
    "def get_start_state():\n",
    "    def f(agent_positions_batch, target_positions_batch):\n",
    "        results = []\n",
    "        batch_size = len(agent_positions_batch)\n",
    "        for i in range(0, batch_size):\n",
    "            x = index2corrdinates(target_positions_batch[i][0])[0] - \\\n",
    "                    index2corrdinates(agent_positions_batch[i][0])[0]\n",
    "            y = index2corrdinates(target_positions_batch[i][0])[1] - \\\n",
    "                    index2corrdinates(agent_positions_batch[i][0])[1]\n",
    "            o = 0 # default DOWN\n",
    "            a = 0 # default NULL\n",
    "            results.append([x, y, o, a])\n",
    "        return torch.tensor(results)\n",
    "    return f\n",
    "\n",
    "def update_state():\n",
    "    def f(prev_s):\n",
    "        \n",
    "        o_map = {\n",
    "            \"DOWN\":0,\n",
    "            \"UP\":1,\n",
    "            \"LEFT\":2,\n",
    "            \"RIGHT\":3,\n",
    "            0:\"DOWN\",\n",
    "            1:\"UP\",\n",
    "            2:\"LEFT\",\n",
    "            3:\"RIGHT\"\n",
    "        }\n",
    "        \n",
    "        a_map = {\n",
    "            \"NULL\":0,\n",
    "            \"walk\":4,\n",
    "            \"turn left\":5,\n",
    "            \"turn right\":3,\n",
    "            0:\"NULL\",\n",
    "            4:\"walk\",\n",
    "            5:\"turn left\",\n",
    "            3:\"turn right\"\n",
    "        }\n",
    "        \n",
    "        results = []\n",
    "        batch_size = len(prev_s)\n",
    "        for i in range(0, batch_size):\n",
    "            prev_x = int(prev_s[i][0])\n",
    "            prev_y = int(prev_s[i][1])\n",
    "            prev_o = int(prev_s[i][2])\n",
    "            prev_a = int(prev_s[i][3])\n",
    "\n",
    "            # update x\n",
    "            if o_map[prev_o] ==\"RIGHT\" and a_map[prev_a] == \"walk\":\n",
    "                x = prev_x + 1\n",
    "            elif o_map[prev_o] ==\"LEFT\" and a_map[prev_a] == \"walk\":\n",
    "                x = prev_x - 1\n",
    "            else:\n",
    "                x = prev_x\n",
    "            \n",
    "            # update y\n",
    "            if o_map[prev_o] ==\"UP\" and a_map[prev_a] == \"walk\":\n",
    "                y = prev_y + 1\n",
    "            elif o_map[prev_o] ==\"DOWN\" and a_map[prev_a] == \"walk\":\n",
    "                y = prev_y - 1\n",
    "            else:\n",
    "                y = prev_y\n",
    "            \n",
    "            # update o\n",
    "            rotate_left = {\"RIGHT\":\"UP\", \"LEFT\":\"DOWN\", \"UP\":\"LEFT\",\"DOWN\":\"RIGHT\"}\n",
    "            rotate_right = {\"UP\":\"RIGHT\", \"DOWN\":\"LEFT\", \"LEFT\":\"UP\",\"RIGHT\":\"DOWN\"}\n",
    "            if a_map[prev_a] == \"walk\" or a_map[prev_a] == \"NULL\":\n",
    "                o = prev_o\n",
    "            elif a_map[prev_a] == \"turn left\":\n",
    "                o = o_map[rotate_left[o_map[prev_o]]]\n",
    "            elif a_map[prev_a] == \"turn right\":\n",
    "                o = o_map[rotate_right[o_map[prev_o]]]\n",
    "            \n",
    "            # update a\n",
    "            if y == 0 and x == 0:\n",
    "                a = a_map[\"NULL\"]\n",
    "            if y == 0:\n",
    "                if x > 0:\n",
    "                    if o_map[o] == \"LEFT\":\n",
    "                        a = a_map[\"walk\"]\n",
    "                    elif o_map[o] in [\"RIGHT\", \"UP\"]:\n",
    "                        a = a_map[\"turn left\"]\n",
    "                    elif o_map[o] == \"DOWN\":\n",
    "                        a = a_map[\"turn right\"]\n",
    "                if x < 0:\n",
    "                    if o_map[o] == \"RIGHT\":\n",
    "                        a = a_map[\"walk\"]\n",
    "                    elif o_map[o]  == \"UP\":\n",
    "                        a = a_map[\"turn right\"]\n",
    "                    elif o_map[o] in [\"LEFT\", \"DOWN\"]:\n",
    "                        a = a_map[\"turn left\"]\n",
    "            else:\n",
    "                if y > 0:\n",
    "                    if o_map[o] == \"DOWN\":\n",
    "                        a = a_map[\"walk\"]\n",
    "                    elif o_map[o] in [\"UP\", \"LEFT\"]:\n",
    "                        a = a_map[\"turn left\"]\n",
    "                    elif o_map[o] == \"RIGHT\":\n",
    "                        a = a_map[\"turn right\"]\n",
    "                if y < 0:\n",
    "                    if o_map[o] == \"UP\":\n",
    "                        a = a_map[\"walk\"]\n",
    "                    elif o_map[o] in [\"DOWN\", \"RIGHT\"]:\n",
    "                        a = a_map[\"turn left\"]\n",
    "                    elif o_map[o] == \"LEFT\":\n",
    "                        a = a_map[\"turn right\"]\n",
    "            results.append([x, y, o, a])\n",
    "        return torch.tensor(results)\n",
    "    return f\n",
    "            \n",
    "def get_counter_compgraph(\n",
    "    max_decode_step,\n",
    "    cache_results=False\n",
    "):\n",
    "    agent_positions_batch = GraphNode.leaf(name=f\"agent_positions_batch\")\n",
    "    target_positions_batch = GraphNode.leaf(name=f\"target_positions_batch\")\n",
    "    fs = get_start_state()\n",
    "    _s = GraphNode(agent_positions_batch, target_positions_batch, name=\"s0\", forward=fs)\n",
    "    for i in range(1, max_decode_step+1):\n",
    "        fs = update_state()\n",
    "        new_s = GraphNode(_s, name=\"s\"+str(i), forward=fs)\n",
    "        _s = new_s\n",
    "    return ComputationGraph(_s)"
   ]
  },
  {
   "cell_type": "code",
   "execution_count": 210,
   "metadata": {},
   "outputs": [],
   "source": [
    "hi1 = GraphInput({\n",
    "    \"agent_positions_batch\": torch.tensor([[1],[2]]),\n",
    "    \"target_positions_batch\": torch.tensor([[3],[4]]),\n",
    "    },\n",
    "    batched=True, batch_dim=0, cache_results=False\n",
    ")\n",
    "\n",
    "hi2 = GraphInput({\n",
    "    \"agent_positions_batch\": torch.tensor([[1],[13]]),\n",
    "    \"target_positions_batch\": torch.tensor([[10],[21]]),\n",
    "    },\n",
    "    batched=True, batch_dim=0, cache_results=False\n",
    ")\n",
    "G = get_counter_compgraph(\n",
    "    max_decode_step=20\n",
    ")"
   ]
  },
  {
   "cell_type": "code",
   "execution_count": 224,
   "metadata": {},
   "outputs": [],
   "source": [
    "hi2_hidden = G.compute_node(\"s6\", hi2)"
   ]
  },
  {
   "cell_type": "code",
   "execution_count": 229,
   "metadata": {},
   "outputs": [
    {
     "data": {
      "text/plain": [
       "tensor([[0, 0, 2, 0],\n",
       "        [0, 0, 2, 0]])"
      ]
     },
     "execution_count": 229,
     "metadata": {},
     "output_type": "execute_result"
    }
   ],
   "source": [
    "hi2_hidden"
   ]
  },
  {
   "cell_type": "code",
   "execution_count": 237,
   "metadata": {},
   "outputs": [],
   "source": [
    "high_interv = Intervention(\n",
    "    hi1, {\"s1\": torch.tensor([[1, 3, 0, 4], [1, -1, 0, 3]])}, \n",
    "    cache_results=False,\n",
    "    cache_base_results=False,\n",
    "    batched=True\n",
    ")"
   ]
  },
  {
   "cell_type": "code",
   "execution_count": 238,
   "metadata": {},
   "outputs": [
    {
     "data": {
      "text/plain": [
       "{'base': [(('agent_positions_batch', (1,)), ('target_positions_batch', (3,))),\n",
       "          (('agent_positions_batch', (2,)), ('target_positions_batch', (4,)))],\n",
       " 'interv': [(('s1', (1, 3, 0, 4)),), (('s1', (1, -1, 0, 3)),)],\n",
       " 'locs': {}}"
      ]
     },
     "execution_count": 238,
     "metadata": {},
     "output_type": "execute_result"
    }
   ],
   "source": [
    "high_interv"
   ]
  },
  {
   "cell_type": "code",
   "execution_count": 239,
   "metadata": {},
   "outputs": [
    {
     "data": {
      "text/plain": [
       "(tensor([[0, 1, 0, 4],\n",
       "         [0, 1, 0, 4]]),\n",
       " tensor([[ 1,  2,  0,  4],\n",
       "         [ 1, -1,  2,  3]]))"
      ]
     },
     "execution_count": 239,
     "metadata": {},
     "output_type": "execute_result"
    }
   ],
   "source": [
    "G.intervene_node(\"s2\", high_interv)"
   ]
  },
  {
   "cell_type": "code",
   "execution_count": null,
   "metadata": {},
   "outputs": [],
   "source": []
  }
 ],
 "metadata": {
  "kernelspec": {
   "display_name": "Python 3",
   "language": "python",
   "name": "python3"
  },
  "language_info": {
   "codemirror_mode": {
    "name": "ipython",
    "version": 3
   },
   "file_extension": ".py",
   "mimetype": "text/x-python",
   "name": "python",
   "nbconvert_exporter": "python",
   "pygments_lexer": "ipython3",
   "version": "3.7.6"
  }
 },
 "nbformat": 4,
 "nbformat_minor": 4
}
