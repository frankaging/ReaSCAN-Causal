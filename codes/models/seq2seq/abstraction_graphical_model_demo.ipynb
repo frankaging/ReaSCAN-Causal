{
 "cells": [
  {
   "cell_type": "code",
   "execution_count": null,
   "metadata": {},
   "outputs": [],
   "source": [
    "import os\n",
    "import sys\n",
    "sys.path.append(os.path.join(os.path.dirname(\"__file__\"), '..'))\n",
    "\n",
    "from antra.antra import *\n",
    "import json\n",
    "from decode_abstract_models import *"
   ]
  },
  {
   "cell_type": "code",
   "execution_count": null,
   "metadata": {},
   "outputs": [],
   "source": [
    "path_to_data = \"../../../data-files/ReaSCAN-Simple/data-compositional-splits.txt\"\n",
    "data_json = json.load(open(path_to_data, \"r\"))"
   ]
  },
  {
   "cell_type": "code",
   "execution_count": null,
   "metadata": {},
   "outputs": [],
   "source": [
    "NUM = 200\n",
    "goods = []\n",
    "for ex in data_json[\"examples\"][\"train\"]:\n",
    "    if ex[\"adverb_in_command\"] == \"\":\n",
    "        goods.append(ex)\n",
    "        if len(goods) > NUM-1:\n",
    "            break"
   ]
  },
  {
   "cell_type": "code",
   "execution_count": null,
   "metadata": {},
   "outputs": [],
   "source": [
    "input = GraphInput({\"examples\":goods})\n",
    "G = get_counter_compgraph()\n",
    "_ = G.compute(input) # always return null?\n",
    "for j in range(NUM):\n",
    "    # print(\"\\n\\n\\n\", j, \"a;oifwje;awfeoijawj \\n\\n\\n\")\n",
    "    # print(goods[j][\"command\"])\n",
    "    # print(goods[j][\"target_commands\"])\n",
    "    for i in range(20):\n",
    "        # print(G.compute_node(\"x\" + str(i), input)[j])\n",
    "        # print(G.compute_node(\"y\" + str(i), input)[j])\n",
    "        # print(G.compute_node(\"o\" + str(i), input)[j])\n",
    "        # print(G.compute_node(\"a\" + str(i), input)[j])\n",
    "        if len(goods[j][\"target_commands\"].split(\",\")) <= i and G.compute_node(\"a\" + str(i), input)[j] != \"NULL\":\n",
    "            # print(\"\\n\\nOH NO\")\n",
    "            # print(G.compute_node(\"a\" + str(i), input)[j])\n",
    "            # print(goods[j][\"target_commands\"].split(\",\")[i])\n",
    "            print(MEME)\n",
    "        if len(goods[j][\"target_commands\"].split(\",\")) > i and G.compute_node(\"a\" + str(i), input)[j] != goods[j][\"target_commands\"].split(\",\")[i]:\n",
    "            # print(\"\\n\\nOH NO\")\n",
    "            # print(G.compute_node(\"a\" + str(i), input)[j])\n",
    "            # print(goods[j][\"target_commands\"].split(\",\")[i])\n",
    "            print(MEME)\n",
    "    # print(G.compute_node(\"a\" + str(i), input)[j] == \"turn left\")\n",
    "    # print(\"\\n\")"
   ]
  }
 ],
 "metadata": {
  "kernelspec": {
   "display_name": "Python 3",
   "language": "python",
   "name": "python3"
  },
  "language_info": {
   "codemirror_mode": {
    "name": "ipython",
    "version": 3
   },
   "file_extension": ".py",
   "mimetype": "text/x-python",
   "name": "python",
   "nbconvert_exporter": "python",
   "pygments_lexer": "ipython3",
   "version": "3.7.6"
  }
 },
 "nbformat": 4,
 "nbformat_minor": 4
}
