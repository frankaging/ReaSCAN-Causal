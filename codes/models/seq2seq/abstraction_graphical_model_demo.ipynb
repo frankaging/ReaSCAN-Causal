{
 "cells": [
  {
   "cell_type": "code",
   "execution_count": 240,
   "metadata": {},
   "outputs": [],
   "source": [
    "import os\n",
    "import sys\n",
    "sys.path.append(os.path.join(os.path.dirname(\"__file__\"), '..'))\n",
    "\n",
    "from antra.antra import *\n",
    "import json\n",
    "import torch\n",
    "\n",
    "from decode_graphical_models import *\n",
    "from decode_abstract_models import *"
   ]
  },
  {
   "cell_type": "code",
   "execution_count": 241,
   "metadata": {},
   "outputs": [],
   "source": [
    "path_to_data = \"../../../data-files/gSCAN-Simple/data-compositional-splits.txt\"\n",
    "data_json = json.load(open(path_to_data, \"r\"))"
   ]
  },
  {
   "cell_type": "code",
   "execution_count": 267,
   "metadata": {},
   "outputs": [],
   "source": [
    "NUM = 20\n",
    "agent_positions_batch = []\n",
    "target_positions_batch = []\n",
    "target_commands = []\n",
    "for ex in data_json[\"examples\"][\"train\"]:\n",
    "    target_commands += [ex[\"target_commands\"]]\n",
    "    situation_repr = ex['situation']\n",
    "    agent = torch.tensor(\n",
    "        (int(situation_repr[\"agent_position\"][\"row\"]) * int(situation_repr[\"grid_size\"])) +\n",
    "        int(situation_repr[\"agent_position\"][\"column\"]), dtype=torch.long).unsqueeze(dim=0)\n",
    "    target = torch.tensor(\n",
    "        (int(situation_repr[\"target_object\"][\"position\"][\"row\"]) * int(situation_repr[\"grid_size\"])) +\n",
    "        int(situation_repr[\"target_object\"][\"position\"][\"column\"]), dtype=torch.long).unsqueeze(dim=0)\n",
    "    agent_positions_batch.append(agent)\n",
    "    target_positions_batch.append(target)\n",
    "    if len(agent_positions_batch) == NUM:\n",
    "        break\n",
    "agent_positions_batch = torch.stack(agent_positions_batch, dim=0)\n",
    "target_positions_batch = torch.stack(target_positions_batch, dim=0)"
   ]
  },
  {
   "cell_type": "code",
   "execution_count": 268,
   "metadata": {},
   "outputs": [],
   "source": [
    "input = {\n",
    "    \"agent_positions_batch\": agent_positions_batch,\n",
    "    \"target_positions_batch\": target_positions_batch,\n",
    "}\n",
    "input = GraphInput(input, batched=True, batch_dim=0, cache_results=False)"
   ]
  },
  {
   "cell_type": "code",
   "execution_count": 269,
   "metadata": {},
   "outputs": [],
   "source": [
    "G = get_counter_compgraph(\n",
    "    20,\n",
    "    cache_results=False\n",
    ")\n",
    "_ = G.compute(input)"
   ]
  },
  {
   "cell_type": "code",
   "execution_count": 281,
   "metadata": {},
   "outputs": [],
   "source": [
    "a_map = {\n",
    "    \"NULL\":0,\n",
    "    \"walk\":4,\n",
    "    \"turn left\":5,\n",
    "    \"turn right\":3,\n",
    "    0:\"NULL\",\n",
    "    4:\"walk\",\n",
    "    5:\"turn left\",\n",
    "    3:\"turn right\"\n",
    "}\n",
    "for j in range(NUM):\n",
    "    # print(\"\\n\\n\\n\", j, \"a;oifwje;awfeoijawj \\n\\n\\n\")\n",
    "    # print(goods[j][\"command\"])\n",
    "    # print(goods[j][\"target_commands\"])\n",
    "    for i in range(1, 21):\n",
    "        # print(G.compute_node(\"x\" + str(i), input)[j])\n",
    "        # print(G.compute_node(\"y\" + str(i), input)[j])\n",
    "        # print(G.compute_node(\"o\" + str(i), input)[j])\n",
    "        # print(G.compute_node(\"a\" + str(i), input)[j])\n",
    "        a = a_map[G.compute_node(\"s\" + str(i), input)[j][-1].tolist()]\n",
    "        t_a = target_commands[j].split(\",\")\n",
    "        if i <= len(t_a):\n",
    "            # print(G.compute_node(\"s\" + str(i), input)[j])\n",
    "            assert a == t_a[i-1]\n",
    "        else:\n",
    "            assert a == \"NULL\""
   ]
  }
 ],
 "metadata": {
  "kernelspec": {
   "display_name": "Python 3",
   "language": "python",
   "name": "python3"
  },
  "language_info": {
   "codemirror_mode": {
    "name": "ipython",
    "version": 3
   },
   "file_extension": ".py",
   "mimetype": "text/x-python",
   "name": "python",
   "nbconvert_exporter": "python",
   "pygments_lexer": "ipython3",
   "version": "3.7.6"
  }
 },
 "nbformat": 4,
 "nbformat_minor": 4
}
