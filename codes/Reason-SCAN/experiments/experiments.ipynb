{
 "cells": [
  {
   "cell_type": "markdown",
   "metadata": {},
   "source": [
    "#### Experiment 1. Syntactic Dependency Analysis of gSCAN Demo Data\n",
    "Based on current outline of gSCAN, we suspect that gSCAN is not grounded syntactically. This prevents models trained with gSCAN have true reasoning powers and true systematicity. All these codes are run against the original codebase released by authors of gSCAN (i.e., no new codes added in gSCAN), which ensures fairness."
   ]
  },
  {
   "cell_type": "code",
   "execution_count": 18,
   "metadata": {},
   "outputs": [],
   "source": [
    "import argparse\n",
    "import logging\n",
    "import os\n",
    "import torch\n",
    "import sys\n",
    "sys.path.append(os.path.join(os.path.dirname(\"__file__\"), '../multimodal_seq2seq_gSCAN/'))\n",
    "import random\n",
    "import copy \n",
    "\n",
    "from seq2seq.gSCAN_dataset import GroundedScanDataset\n",
    "from seq2seq.model import Model\n",
    "from seq2seq.train import train\n",
    "from seq2seq.predict import predict_and_save\n",
    "from tqdm import tqdm, trange\n",
    "from GroundedScan.dataset import GroundedScan\n",
    "\n",
    "from typing import List\n",
    "from typing import Tuple\n",
    "from collections import defaultdict\n",
    "from collections import Counter\n",
    "import json\n",
    "import numpy as np\n",
    "\n",
    "from seq2seq.gSCAN_dataset import Vocabulary\n",
    "from seq2seq.helpers import sequence_accuracy\n",
    "from experiments_utils import *\n",
    "\n",
    "FORMAT = \"%(asctime)-15s %(message)s\"\n",
    "logging.basicConfig(format=FORMAT, level=logging.DEBUG,\n",
    "                    datefmt=\"%Y-%m-%d %H:%M\")\n",
    "logger = logging.getLogger(__name__)\n",
    "def isnotebook():\n",
    "    try:\n",
    "        shell = get_ipython().__class__.__name__\n",
    "        if shell == 'ZMQInteractiveShell':\n",
    "            return True   # Jupyter notebook or qtconsole\n",
    "        elif shell == 'TerminalInteractiveShell':\n",
    "            return False  # Terminal running IPython\n",
    "        else:\n",
    "            return False  # Other type (?)\n",
    "    except NameError:\n",
    "        return False      # Probably standard Python interpreter\n",
    "use_cuda = True if torch.cuda.is_available() and not isnotebook() else False\n",
    "device = \"cuda\" if use_cuda else \"cpu\"\n",
    "\n",
    "if use_cuda:\n",
    "    logger.info(\"Using CUDA.\")\n",
    "    logger.info(\"Cuda version: {}\".format(torch.version.cuda))\n",
    "    \n"
   ]
  },
  {
   "cell_type": "markdown",
   "metadata": {},
   "source": [
    "train a model on demo data to make sure the pipeline is running correctly!"
   ]
  },
  {
   "cell_type": "code",
   "execution_count": 19,
   "metadata": {
    "scrolled": true
   },
   "outputs": [
    {
     "data": {
      "text/plain": [
       "{'mode': 'train',\n",
       " 'output_directory': './syntactic_dependency-results/',\n",
       " 'resume_from_file': '',\n",
       " 'split': 'test',\n",
       " 'data_directory': '../multimodal_seq2seq_gSCAN/data/demo_dataset/',\n",
       " 'input_vocab_path': 'training_input_vocab.txt',\n",
       " 'target_vocab_path': 'training_target_vocab.txt',\n",
       " 'generate_vocabularies': True,\n",
       " 'training_batch_size': 50,\n",
       " 'k': 0,\n",
       " 'test_batch_size': 1,\n",
       " 'max_training_examples': None,\n",
       " 'learning_rate': 0.001,\n",
       " 'lr_decay': 0.9,\n",
       " 'lr_decay_steps': 20000,\n",
       " 'adam_beta_1': 0.9,\n",
       " 'adam_beta_2': 0.999,\n",
       " 'print_every': 100,\n",
       " 'evaluate_every': 1000,\n",
       " 'max_training_iterations': 1000,\n",
       " 'weight_target_loss': 0.3,\n",
       " 'max_testing_examples': None,\n",
       " 'splits': 'test',\n",
       " 'max_decoding_steps': 30,\n",
       " 'output_file_name': 'predict.json',\n",
       " 'simple_situation_representation': True,\n",
       " 'cnn_hidden_num_channels': 50,\n",
       " 'cnn_kernel_size': 7,\n",
       " 'cnn_dropout_p': 0.1,\n",
       " 'auxiliary_task': False,\n",
       " 'embedding_dimension': 25,\n",
       " 'num_encoder_layers': 1,\n",
       " 'encoder_hidden_size': 100,\n",
       " 'encoder_dropout_p': 0.3,\n",
       " 'encoder_bidirectional': True,\n",
       " 'num_decoder_layers': 1,\n",
       " 'attention_type': 'bahdanau',\n",
       " 'decoder_dropout_p': 0.3,\n",
       " 'decoder_hidden_size': 100,\n",
       " 'conditional_attention': True,\n",
       " 'seed': 42}"
      ]
     },
     "execution_count": 19,
     "metadata": {},
     "output_type": "execute_result"
    }
   ],
   "source": [
    "input_flags = vars(get_gSCAN_parser().parse_args(args=['--mode', 'train', \n",
    "                                           '--data_directory', '../multimodal_seq2seq_gSCAN/data/demo_dataset/', \n",
    "                                           '--output_directory', './syntactic_dependency-results/', \n",
    "                                           '--attention_type', 'bahdanau', \n",
    "                                           '--max_training_iterations', '1000',\n",
    "                                           '--generate_vocabularies']))\n",
    "# input_flags"
   ]
  },
  {
   "cell_type": "code",
   "execution_count": 30,
   "metadata": {},
   "outputs": [
    {
     "name": "stderr",
     "output_type": "stream",
     "text": [
      "2021-02-19 02:45 Initializing dummy gSCAN dataset for adverserial experiments...\n",
      "2021-02-19 02:45 Loading vocabularies...\n",
      "2021-02-19 02:45 Done loading vocabularies.\n"
     ]
    }
   ],
   "source": [
    "demo_data_path = os.path.join('../multimodal_seq2seq_gSCAN/data/demo_dataset/', \n",
    "                              \"dataset.txt\")\n",
    "preprocessor = DummyGroundedScanDataset(demo_data_path, '../multimodal_seq2seq_gSCAN/data/demo_dataset/', \n",
    "                                        input_vocabulary_file=\"training_input_vocab.txt\", \n",
    "                                        target_vocabulary_file=\"training_target_vocab.txt\",\n",
    "                                        generate_vocabulary=False,\n",
    "                                        k=0)\n",
    "# get a single example\n",
    "demo_dataset = GroundedScan.load_dataset_from_file(demo_data_path, save_directory='./syntactic_dependency-results/', k=0)\n",
    "raw_example = None\n",
    "for _, example in enumerate(demo_dataset.get_examples_with_image('train', True)):\n",
    "    raw_example = example\n",
    "    break\n",
    "single_example = preprocessor.process(raw_example)\n",
    "# create the model\n",
    "model = Model(input_vocabulary_size=preprocessor.input_vocabulary_size,\n",
    "              target_vocabulary_size=preprocessor.target_vocabulary_size,\n",
    "              num_cnn_channels=preprocessor.image_channels,\n",
    "              input_padding_idx=preprocessor.input_vocabulary.pad_idx,\n",
    "              target_pad_idx=preprocessor.target_vocabulary.pad_idx,\n",
    "              target_eos_idx=preprocessor.target_vocabulary.eos_idx,\n",
    "              **input_flags)\n",
    "model = model.cuda() if use_cuda else model\n",
    "_ = model.load_model(\"./syntactic_dependency-results/model_best.pth.tar\")"
   ]
  },
  {
   "cell_type": "code",
   "execution_count": 31,
   "metadata": {},
   "outputs": [
    {
     "name": "stdout",
     "output_type": "stream",
     "text": [
      "in: ['walk', 'to', 'a', 'red', 'circle']\n",
      "true: ['turn right', 'walk']\n",
      "pred: ['turn right', 'walk']\n"
     ]
    }
   ],
   "source": [
    "# regular input\n",
    "print(\"in:\", raw_example['input_command'])\n",
    "print(\"true:\", raw_example['target_command'])\n",
    "# to feed this example, we need to modify the current pipeline a little bit\n",
    "single_example = preprocessor.process(raw_example)\n",
    "output = predict_single(single_example, model=model, \n",
    "                        max_decoding_steps=30, \n",
    "                        pad_idx=preprocessor.target_vocabulary.pad_idx, \n",
    "                        sos_idx=preprocessor.target_vocabulary.sos_idx,\n",
    "                        eos_idx=preprocessor.target_vocabulary.eos_idx, \n",
    "                        device=device)\n",
    "pred_command = preprocessor.array_to_sentence(output[3], vocabulary=\"target\")\n",
    "print(\"pred:\", pred_command)"
   ]
  },
  {
   "cell_type": "code",
   "execution_count": 32,
   "metadata": {},
   "outputs": [
    {
     "name": "stdout",
     "output_type": "stream",
     "text": [
      "in: ['to', 'a', 'circle', 'red', 'walk']\n",
      "true: ['turn right', 'walk']\n",
      "pred: ['turn right', 'walk']\n"
     ]
    }
   ],
   "source": [
    "# corrupted input\n",
    "corrupt_example = make_corrupt_example(raw_example)\n",
    "print(\"in:\", corrupt_example['input_command'])\n",
    "print(\"true:\", corrupt_example['target_command'])\n",
    "# to feed this example, we need to modify the current pipeline a little bit\n",
    "corrupt_single_example = preprocessor.process(corrupt_example)\n",
    "corrupt_output = predict_single(corrupt_single_example, model=model, \n",
    "                                max_decoding_steps=30, \n",
    "                                pad_idx=preprocessor.target_vocabulary.pad_idx, \n",
    "                                sos_idx=preprocessor.target_vocabulary.sos_idx,\n",
    "                                eos_idx=preprocessor.target_vocabulary.eos_idx, \n",
    "                                device=device)\n",
    "corrupt_pred_command = preprocessor.array_to_sentence(corrupt_output[3], vocabulary=\"target\")\n",
    "print(\"pred:\", corrupt_pred_command)"
   ]
  },
  {
   "cell_type": "markdown",
   "metadata": {},
   "source": [
    "**wow!** even with very overfitted example (trained with very small demo), we can see that if we corrupt the input, the output command stays the same! this is a strong evidence that current gSCAN does not push neural models to acquire grounding skills over world knowledge at all."
   ]
  },
  {
   "cell_type": "markdown",
   "metadata": {},
   "source": [
    "#### Experiment 2. Syntactic Dependency Analysis of gSCAN Compositional Split Data (Actual Data in the gSCAN Paper)\n"
   ]
  },
  {
   "cell_type": "code",
   "execution_count": 6,
   "metadata": {},
   "outputs": [
    {
     "data": {
      "text/plain": [
       "{'mode': 'test',\n",
       " 'output_directory': './syntactic_dependency_compositional_splits-results/',\n",
       " 'resume_from_file': '',\n",
       " 'split': 'test',\n",
       " 'data_directory': '../multimodal_seq2seq_gSCAN/data/compositional_splits/',\n",
       " 'input_vocab_path': 'training_input_vocab.txt',\n",
       " 'target_vocab_path': 'training_target_vocab.txt',\n",
       " 'generate_vocabularies': False,\n",
       " 'training_batch_size': 50,\n",
       " 'k': 0,\n",
       " 'test_batch_size': 1,\n",
       " 'max_training_examples': None,\n",
       " 'learning_rate': 0.001,\n",
       " 'lr_decay': 0.9,\n",
       " 'lr_decay_steps': 20000,\n",
       " 'adam_beta_1': 0.9,\n",
       " 'adam_beta_2': 0.999,\n",
       " 'print_every': 100,\n",
       " 'evaluate_every': 1000,\n",
       " 'max_training_iterations': 200000,\n",
       " 'weight_target_loss': 0.3,\n",
       " 'max_testing_examples': None,\n",
       " 'splits': 'test',\n",
       " 'max_decoding_steps': 30,\n",
       " 'output_file_name': 'predict.json',\n",
       " 'simple_situation_representation': True,\n",
       " 'cnn_hidden_num_channels': 50,\n",
       " 'cnn_kernel_size': 7,\n",
       " 'cnn_dropout_p': 0.1,\n",
       " 'auxiliary_task': False,\n",
       " 'embedding_dimension': 25,\n",
       " 'num_encoder_layers': 1,\n",
       " 'encoder_hidden_size': 100,\n",
       " 'encoder_dropout_p': 0.3,\n",
       " 'encoder_bidirectional': True,\n",
       " 'num_decoder_layers': 1,\n",
       " 'attention_type': 'bahdanau',\n",
       " 'decoder_dropout_p': 0.3,\n",
       " 'decoder_hidden_size': 100,\n",
       " 'conditional_attention': True,\n",
       " 'seed': 42}"
      ]
     },
     "execution_count": 6,
     "metadata": {},
     "output_type": "execute_result"
    }
   ],
   "source": [
    "input_flags = vars(parser.parse_args(args=['--mode', 'test', \n",
    "                                           '--data_directory', '../multimodal_seq2seq_gSCAN/data/compositional_splits/', \n",
    "                                           '--output_directory', './syntactic_dependency_compositional_splits-results/', \n",
    "                                           '--attention_type', 'bahdanau', \n",
    "                                           '--max_training_iterations', '200000']))\n",
    "# input_flags"
   ]
  },
  {
   "cell_type": "code",
   "execution_count": 7,
   "metadata": {},
   "outputs": [
    {
     "name": "stderr",
     "output_type": "stream",
     "text": [
      "2021-02-20 21:46 Initializing dummy gSCAN dataset for adverserial experiments...\n",
      "2021-02-20 21:47 Loading vocabularies...\n",
      "2021-02-20 21:47 Done loading vocabularies.\n"
     ]
    }
   ],
   "source": [
    "compositional_splits_data_path = os.path.join('../multimodal_seq2seq_gSCAN/data/compositional_splits/', \n",
    "                              \"dataset.txt\")\n",
    "compositional_splits_preprocessor = DummyGroundedScanDataset(compositional_splits_data_path, \n",
    "                                        '../multimodal_seq2seq_gSCAN/data/compositional_splits/', \n",
    "                                        input_vocabulary_file=\"training_input_vocab.txt\", \n",
    "                                        target_vocabulary_file=\"training_target_vocab.txt\",\n",
    "                                        generate_vocabulary=False,\n",
    "                                        k=0)\n",
    "# get a single example\n",
    "compositional_splits_dataset = \\\n",
    "    GroundedScan.load_dataset_from_file(\n",
    "        compositional_splits_data_path, \n",
    "        save_directory='./syntactic_dependency_compositional_splits-results/', \n",
    "        k=0)"
   ]
  },
  {
   "cell_type": "code",
   "execution_count": 8,
   "metadata": {},
   "outputs": [
    {
     "name": "stderr",
     "output_type": "stream",
     "text": [
      "/dfs/user/wuzhengx/tool-chain/anaconda3/lib/python3.7/site-packages/torch/nn/modules/rnn.py:60: UserWarning: dropout option adds dropout after all but last recurrent layer, so non-zero dropout expects num_layers greater than 1, but got dropout=0.3 and num_layers=1\n",
      "  \"num_layers={}\".format(dropout, num_layers))\n"
     ]
    }
   ],
   "source": [
    "raw_example = None\n",
    "for _, example in enumerate(compositional_splits_dataset.get_examples_with_image('test', True)):\n",
    "    raw_example = example\n",
    "    break\n",
    "single_example = compositional_splits_preprocessor.process(raw_example)\n",
    "# create the model\n",
    "model = Model(input_vocabulary_size=compositional_splits_preprocessor.input_vocabulary_size,\n",
    "              target_vocabulary_size=compositional_splits_preprocessor.target_vocabulary_size,\n",
    "              num_cnn_channels=compositional_splits_preprocessor.image_channels,\n",
    "              input_padding_idx=compositional_splits_preprocessor.input_vocabulary.pad_idx,\n",
    "              target_pad_idx=compositional_splits_preprocessor.target_vocabulary.pad_idx,\n",
    "              target_eos_idx=compositional_splits_preprocessor.target_vocabulary.eos_idx,\n",
    "              **input_flags)\n",
    "model = model.cuda() if use_cuda else model\n",
    "_ = model.load_model(\"./syntactic_dependency_compositional_splits-results/model_best.pth.tar\")"
   ]
  },
  {
   "cell_type": "code",
   "execution_count": 9,
   "metadata": {},
   "outputs": [
    {
     "name": "stdout",
     "output_type": "stream",
     "text": [
      "in: ['push', 'a', 'green', 'small', 'circle']\n",
      "true: ['turn left', 'turn left', 'walk', 'walk', 'turn right', 'walk', 'walk', 'walk']\n",
      "pred: ['turn left', 'turn left', 'walk', 'walk', 'turn right', 'walk', 'walk', 'walk']\n"
     ]
    }
   ],
   "source": [
    "# regular input\n",
    "print(\"in:\", raw_example['input_command'])\n",
    "print(\"true:\", raw_example['target_command'])\n",
    "# to feed this example, we need to modify the current pipeline a little bit\n",
    "single_example = compositional_splits_preprocessor.process(raw_example)\n",
    "output = predict_single(single_example, model=model, \n",
    "                        max_decoding_steps=30, \n",
    "                        pad_idx=compositional_splits_preprocessor.target_vocabulary.pad_idx, \n",
    "                        sos_idx=compositional_splits_preprocessor.target_vocabulary.sos_idx,\n",
    "                        eos_idx=compositional_splits_preprocessor.target_vocabulary.eos_idx, \n",
    "                        device=device)\n",
    "pred_command = compositional_splits_preprocessor.array_to_sentence(output[3], vocabulary=\"target\")\n",
    "print(\"pred:\", pred_command)"
   ]
  },
  {
   "cell_type": "code",
   "execution_count": 10,
   "metadata": {},
   "outputs": [
    {
     "name": "stdout",
     "output_type": "stream",
     "text": [
      "in: ['push', 'a', 'small', 'green', 'circle']\n",
      "true: ['turn left', 'turn left', 'walk', 'walk', 'turn right', 'walk', 'walk', 'walk']\n",
      "pred: ['turn left', 'turn left', 'walk', 'walk', 'turn right', 'walk', 'walk', 'walk']\n"
     ]
    }
   ],
   "source": [
    "# corrupted input\n",
    "corrupt_example = make_corrupt_example(raw_example)\n",
    "print(\"in:\", corrupt_example['input_command'])\n",
    "print(\"true:\", corrupt_example['target_command'])\n",
    "# to feed this example, we need to modify the current pipeline a little bit\n",
    "corrupt_single_example = compositional_splits_preprocessor.process(corrupt_example)\n",
    "corrupt_output = predict_single(corrupt_single_example, model=model, \n",
    "                                max_decoding_steps=30, \n",
    "                                pad_idx=compositional_splits_preprocessor.target_vocabulary.pad_idx, \n",
    "                                sos_idx=compositional_splits_preprocessor.target_vocabulary.sos_idx,\n",
    "                                eos_idx=compositional_splits_preprocessor.target_vocabulary.eos_idx, \n",
    "                                device=device)\n",
    "corrupt_pred_command = compositional_splits_preprocessor.array_to_sentence(corrupt_output[3], vocabulary=\"target\")\n",
    "print(\"pred:\", corrupt_pred_command)"
   ]
  },
  {
   "cell_type": "markdown",
   "metadata": {},
   "source": [
    "#### Experiment 3. Systematically look at the effect with full gSCAN dataset"
   ]
  },
  {
   "cell_type": "markdown",
   "metadata": {},
   "source": [
    "Performance drops with permuted inputs which kept the same semantics\n",
    "\n",
    "**Hypothesis** If the model do grounded language reasonings syntactically, we should see performance kept in the same level across all test splits. If not, it means model does not reason about the input command, and mostly likely is just doing some pattern matching."
   ]
  },
  {
   "cell_type": "markdown",
   "metadata": {},
   "source": [
    "Will the prediction change if we randomly swap words in the inputs?\n",
    "\n",
    "**Hypothesis** If the model output does not change for the majority of cases, it is another strong proof of the model being lacking of systematicity."
   ]
  },
  {
   "cell_type": "code",
   "execution_count": 111,
   "metadata": {},
   "outputs": [
    {
     "data": {
      "text/plain": [
       "Text(0, 0.5, 'Frequency')"
      ]
     },
     "execution_count": 111,
     "metadata": {},
     "output_type": "execute_result"
    },
    {
     "data": {
      "image/png": "[encoded data removed]",
      "text/plain": [
       "<Figure size 432x288 with 1 Axes>"
      ]
     },
     "metadata": {
      "needs_background": "light"
     },
     "output_type": "display_data"
    }
   ],
   "source": [
    "n, bins, patches = plt.hist(x=pred_levDs, bins='auto', color='#0504aa',\n",
    "                            alpha=0.7, rwidth=0.85)\n",
    "plt.grid(axis='y', alpha=0.75)\n",
    "plt.xlabel('Predicted Action Lev. Dist')\n",
    "plt.ylabel('Frequency')"
   ]
  }
 ],
 "metadata": {
  "kernelspec": {
   "display_name": "Python 3",
   "language": "python",
   "name": "python3"
  },
  "language_info": {
   "codemirror_mode": {
    "name": "ipython",
    "version": 3
   },
   "file_extension": ".py",
   "mimetype": "text/x-python",
   "name": "python",
   "nbconvert_exporter": "python",
   "pygments_lexer": "ipython3",
   "version": "3.7.6"
  }
 },
 "nbformat": 4,
 "nbformat_minor": 4
}
